{
 "cells": [
  {
   "cell_type": "code",
   "execution_count": 1,
   "id": "07d23f35-6c7e-4ccd-ad5b-8e75cce06823",
   "metadata": {},
   "outputs": [],
   "source": [
    "import os"
   ]
  },
  {
   "cell_type": "code",
   "execution_count": 2,
   "id": "a0c858bc-1f8c-48e2-9a61-85f723c50211",
   "metadata": {},
   "outputs": [
    {
     "data": {
      "text/plain": [
       "'/mnt/d/Projects/Arduino/Project 1 DHT-11/Research'"
      ]
     },
     "execution_count": 2,
     "metadata": {},
     "output_type": "execute_result"
    }
   ],
   "source": [
    "%pwd"
   ]
  },
  {
   "cell_type": "code",
   "execution_count": 3,
   "id": "a0a830d2-64aa-4112-9071-e653eb33954f",
   "metadata": {},
   "outputs": [],
   "source": [
    "os.chdir(\"../\")"
   ]
  },
  {
   "cell_type": "code",
   "execution_count": 4,
   "id": "b9e0ff06-5bc5-48e8-9ce9-d037dd8a9163",
   "metadata": {},
   "outputs": [
    {
     "data": {
      "text/plain": [
       "'/mnt/d/Projects/Arduino/Project 1 DHT-11'"
      ]
     },
     "execution_count": 4,
     "metadata": {},
     "output_type": "execute_result"
    }
   ],
   "source": [
    "%pwd"
   ]
  },
  {
   "cell_type": "code",
   "execution_count": 5,
   "id": "99ebd0c0-14fa-465d-808d-022c704ecde0",
   "metadata": {},
   "outputs": [
    {
     "data": {
      "text/html": [
       "<div>\n",
       "<style scoped>\n",
       "    .dataframe tbody tr th:only-of-type {\n",
       "        vertical-align: middle;\n",
       "    }\n",
       "\n",
       "    .dataframe tbody tr th {\n",
       "        vertical-align: top;\n",
       "    }\n",
       "\n",
       "    .dataframe thead th {\n",
       "        text-align: right;\n",
       "    }\n",
       "</style>\n",
       "<table border=\"1\" class=\"dataframe\">\n",
       "  <thead>\n",
       "    <tr style=\"text-align: right;\">\n",
       "      <th></th>\n",
       "      <th>time</th>\n",
       "      <th>temperature</th>\n",
       "      <th>moisture</th>\n",
       "    </tr>\n",
       "  </thead>\n",
       "  <tbody>\n",
       "    <tr>\n",
       "      <th>0</th>\n",
       "      <td>2025-01-01 00:00:00</td>\n",
       "      <td>27.49</td>\n",
       "      <td>477.75</td>\n",
       "    </tr>\n",
       "    <tr>\n",
       "      <th>1</th>\n",
       "      <td>2025-01-01 01:00:00</td>\n",
       "      <td>39.01</td>\n",
       "      <td>217.09</td>\n",
       "    </tr>\n",
       "    <tr>\n",
       "      <th>2</th>\n",
       "      <td>2025-01-01 02:00:00</td>\n",
       "      <td>34.64</td>\n",
       "      <td>338.80</td>\n",
       "    </tr>\n",
       "    <tr>\n",
       "      <th>3</th>\n",
       "      <td>2025-01-01 03:00:00</td>\n",
       "      <td>31.97</td>\n",
       "      <td>396.81</td>\n",
       "    </tr>\n",
       "    <tr>\n",
       "      <th>4</th>\n",
       "      <td>2025-01-01 04:00:00</td>\n",
       "      <td>23.12</td>\n",
       "      <td>572.80</td>\n",
       "    </tr>\n",
       "  </tbody>\n",
       "</table>\n",
       "</div>"
      ],
      "text/plain": [
       "                 time  temperature  moisture\n",
       "0 2025-01-01 00:00:00        27.49    477.75\n",
       "1 2025-01-01 01:00:00        39.01    217.09\n",
       "2 2025-01-01 02:00:00        34.64    338.80\n",
       "3 2025-01-01 03:00:00        31.97    396.81\n",
       "4 2025-01-01 04:00:00        23.12    572.80"
      ]
     },
     "execution_count": 5,
     "metadata": {},
     "output_type": "execute_result"
    }
   ],
   "source": [
    "import numpy as np\n",
    "import pandas as pd\n",
    "\n",
    "# Set random seed for reproducibility\n",
    "np.random.seed(42)\n",
    "\n",
    "# Generate synthetic temperature data (between 20°C and 40°C)\n",
    "temperatures = np.round(np.random.uniform(20, 40, 1000), 2)\n",
    "\n",
    "# Generate synthetic moisture data using a non-linear relationship (for realism)\n",
    "moisture = np.round(1024 - (temperatures * 20) + np.random.normal(0, 20, 1000), 2)\n",
    "\n",
    "# Create a DataFrame\n",
    "synthetic_data = pd.DataFrame({\n",
    "    'time': pd.date_range(start='2025-01-01', periods=1000, freq='H'),\n",
    "    'temperature': temperatures,\n",
    "    'moisture': moisture\n",
    "})\n",
    "\n",
    "# Save the synthetic dataset to a CSV file\n",
    "synthetic_data.to_csv(\"Dataset/synthetic_temperature_moisture.csv\", index=False)\n",
    "\n",
    "synthetic_data.head()\n"
   ]
  },
  {
   "cell_type": "markdown",
   "id": "fec6a234-12e3-4be9-ae0d-c31b987ffeea",
   "metadata": {},
   "source": [
    "## EDA"
   ]
  },
  {
   "cell_type": "code",
   "execution_count": 6,
   "id": "8cde334b-87a1-41f0-95dd-3e0efbc851cf",
   "metadata": {},
   "outputs": [
    {
     "name": "stdout",
     "output_type": "stream",
     "text": [
      "Dataset Shape: (1000, 3)\n",
      "\n",
      "First 5 Rows:\n",
      "                  time  temperature  moisture\n",
      "0  2025-01-01 00:00:00        27.49    477.75\n",
      "1  2025-01-01 01:00:00        39.01    217.09\n",
      "2  2025-01-01 02:00:00        34.64    338.80\n",
      "3  2025-01-01 03:00:00        31.97    396.81\n",
      "4  2025-01-01 04:00:00        23.12    572.80\n",
      "\n",
      "Data Types:\n",
      "time            object\n",
      "temperature    float64\n",
      "moisture       float64\n",
      "dtype: object\n",
      "\n",
      "Missing Values:\n",
      "time           0\n",
      "temperature    0\n",
      "moisture       0\n",
      "dtype: int64\n",
      "\n",
      "Unique Values in Each Column:\n",
      "time: 1000 unique values\n",
      "temperature: 803 unique values\n",
      "moisture: 989 unique values\n",
      "\n",
      "Variance of Numerical Columns:\n",
      "temperature       34.136768\n",
      "moisture       14257.233462\n",
      "dtype: float64\n",
      "\n",
      "Statistical Summary:\n",
      "       temperature     moisture\n",
      "count  1000.000000  1000.000000\n",
      "mean     29.805050   429.876930\n",
      "std       5.842668   119.403658\n",
      "min      20.090000   186.750000\n",
      "25%      24.715000   325.090000\n",
      "50%      29.935000   430.380000\n",
      "75%      34.887500   531.382500\n",
      "max      39.990000   661.940000\n"
     ]
    },
    {
     "data": {
      "image/png": "[encoded data removed]",
      "text/plain": [
       "<Figure size 1000x500 with 1 Axes>"
      ]
     },
     "metadata": {},
     "output_type": "display_data"
    },
    {
     "data": {
      "image/png": "[encoded data removed]",
      "text/plain": [
       "<Figure size 1000x500 with 1 Axes>"
      ]
     },
     "metadata": {},
     "output_type": "display_data"
    },
    {
     "name": "stdout",
     "output_type": "stream",
     "text": [
      "\n",
      "Correlation Matrix:\n",
      "             temperature  moisture\n",
      "temperature     1.000000 -0.986214\n",
      "moisture       -0.986214  1.000000\n"
     ]
    },
    {
     "data": {
      "image/png": "[encoded data removed]",
      "text/plain": [
       "<Figure size 800x600 with 2 Axes>"
      ]
     },
     "metadata": {},
     "output_type": "display_data"
    },
    {
     "data": {
      "image/png": "[encoded data removed]",
      "text/plain": [
       "<Figure size 1200x600 with 2 Axes>"
      ]
     },
     "metadata": {},
     "output_type": "display_data"
    },
    {
     "name": "stdout",
     "output_type": "stream",
     "text": [
      "\n",
      "Time column converted to datetime.\n",
      "\n",
      "Number of Duplicate Rows: 0\n",
      "After Removing Duplicates: (1000, 3)\n",
      "\n",
      "Number of Outliers in Moisture: 0\n",
      "After Removing Outliers: (1000, 3)\n",
      "\n",
      "Cleaned dataset saved as 'cleaned_dataset.csv'.\n"
     ]
    }
   ],
   "source": [
    "# Importing necessary libraries\n",
    "import pandas as pd\n",
    "import numpy as np\n",
    "import matplotlib.pyplot as plt\n",
    "import seaborn as sns\n",
    "\n",
    "# Load the dataset\n",
    "data = pd.read_csv('Dataset/synthetic_temperature_moisture.csv')  # Replace with your file path\n",
    "\n",
    "# 1. Basic Info and Inspection\n",
    "print(\"Dataset Shape:\", data.shape)\n",
    "print(\"\\nFirst 5 Rows:\")\n",
    "print(data.head())\n",
    "\n",
    "print(\"\\nData Types:\")\n",
    "print(data.dtypes)\n",
    "\n",
    "# 2. Missing Values Check\n",
    "print(\"\\nMissing Values:\")\n",
    "print(data.isnull().sum())\n",
    "\n",
    "# 3. Unique Values and Variance Analysis\n",
    "print(\"\\nUnique Values in Each Column:\")\n",
    "for column in data.columns:\n",
    "    unique_values = data[column].nunique()\n",
    "    print(f\"{column}: {unique_values} unique values\")\n",
    "\n",
    "print(\"\\nVariance of Numerical Columns:\")\n",
    "print(data.var(numeric_only=True))\n",
    "\n",
    "# 4. Statistical Summary\n",
    "print(\"\\nStatistical Summary:\")\n",
    "print(data.describe())\n",
    "\n",
    "# 5. Analyzing Data Distribution\n",
    "plt.figure(figsize=(10, 5))\n",
    "plt.title('Temperature Distribution')\n",
    "sns.histplot(data['temperature'], bins=20, kde=True)\n",
    "plt.xlabel('Temperature (°C)')\n",
    "plt.ylabel('Frequency')\n",
    "plt.show()\n",
    "\n",
    "plt.figure(figsize=(10, 5))\n",
    "plt.title('Moisture Distribution')\n",
    "sns.histplot(data['moisture'], bins=20, kde=True)\n",
    "plt.xlabel('Moisture')\n",
    "plt.ylabel('Frequency')\n",
    "plt.show()\n",
    "\n",
    "# 6. Correlation Analysis\n",
    "print(\"\\nCorrelation Matrix:\")\n",
    "correlation_matrix = data[['temperature', 'moisture']].corr()\n",
    "print(correlation_matrix)\n",
    "\n",
    "plt.figure(figsize=(8, 6))\n",
    "sns.heatmap(correlation_matrix, annot=True, cmap='coolwarm')\n",
    "plt.title('Correlation Heatmap')\n",
    "plt.show()\n",
    "\n",
    "# 7. Outlier Detection using Boxplot\n",
    "plt.figure(figsize=(12, 6))\n",
    "plt.subplot(1, 2, 1)\n",
    "sns.boxplot(data['temperature'])\n",
    "plt.title('Temperature Boxplot')\n",
    "\n",
    "plt.subplot(1, 2, 2)\n",
    "sns.boxplot(data['moisture'])\n",
    "plt.title('Moisture Boxplot')\n",
    "\n",
    "plt.tight_layout()\n",
    "plt.show()\n",
    "\n",
    "# 8. Data Cleaning and Transformation\n",
    "# Convert 'time' to datetime format\n",
    "try:\n",
    "    data['time'] = pd.to_datetime(data['time'])\n",
    "    print(\"\\nTime column converted to datetime.\")\n",
    "except Exception as e:\n",
    "    print(\"\\nError converting time column:\", e)\n",
    "\n",
    "# Handling Duplicate Rows\n",
    "duplicate_count = data.duplicated().sum()\n",
    "print(f\"\\nNumber of Duplicate Rows: {duplicate_count}\")\n",
    "data = data.drop_duplicates()\n",
    "print(f\"After Removing Duplicates: {data.shape}\")\n",
    "\n",
    "# Handling Outliers using IQR\n",
    "Q1 = data['moisture'].quantile(0.25)\n",
    "Q3 = data['moisture'].quantile(0.75)\n",
    "IQR = Q3 - Q1\n",
    "\n",
    "lower_bound = Q1 - 1.5 * IQR\n",
    "upper_bound = Q3 + 1.5 * IQR\n",
    "\n",
    "outliers = data[(data['moisture'] < lower_bound) | (data['moisture'] > upper_bound)]\n",
    "print(f\"\\nNumber of Outliers in Moisture: {len(outliers)}\")\n",
    "\n",
    "# Removing outliers\n",
    "data = data[(data['moisture'] >= lower_bound) & (data['moisture'] <= upper_bound)]\n",
    "print(f\"After Removing Outliers: {data.shape}\")\n",
    "\n",
    "# Save the cleaned dataset\n",
    "data.to_csv('Dataset/cleaned_dataset.csv', index=False)\n",
    "print(\"\\nCleaned dataset saved as 'cleaned_dataset.csv'.\")\n"
   ]
  },
  {
   "cell_type": "code",
   "execution_count": 7,
   "id": "f2e06540-88c6-4b5a-8dbf-d09f875a83b3",
   "metadata": {},
   "outputs": [
    {
     "name": "stdout",
     "output_type": "stream",
     "text": [
      "Dataset shape: (1000, 3)\n"
     ]
    },
    {
     "data": {
      "text/html": [
       "<div>\n",
       "<style scoped>\n",
       "    .dataframe tbody tr th:only-of-type {\n",
       "        vertical-align: middle;\n",
       "    }\n",
       "\n",
       "    .dataframe tbody tr th {\n",
       "        vertical-align: top;\n",
       "    }\n",
       "\n",
       "    .dataframe thead th {\n",
       "        text-align: right;\n",
       "    }\n",
       "</style>\n",
       "<table border=\"1\" class=\"dataframe\">\n",
       "  <thead>\n",
       "    <tr style=\"text-align: right;\">\n",
       "      <th></th>\n",
       "      <th>time</th>\n",
       "      <th>temperature</th>\n",
       "      <th>moisture</th>\n",
       "    </tr>\n",
       "  </thead>\n",
       "  <tbody>\n",
       "    <tr>\n",
       "      <th>0</th>\n",
       "      <td>2025-01-01 00:00:00</td>\n",
       "      <td>27.49</td>\n",
       "      <td>477.75</td>\n",
       "    </tr>\n",
       "    <tr>\n",
       "      <th>1</th>\n",
       "      <td>2025-01-01 01:00:00</td>\n",
       "      <td>39.01</td>\n",
       "      <td>217.09</td>\n",
       "    </tr>\n",
       "    <tr>\n",
       "      <th>2</th>\n",
       "      <td>2025-01-01 02:00:00</td>\n",
       "      <td>34.64</td>\n",
       "      <td>338.80</td>\n",
       "    </tr>\n",
       "    <tr>\n",
       "      <th>3</th>\n",
       "      <td>2025-01-01 03:00:00</td>\n",
       "      <td>31.97</td>\n",
       "      <td>396.81</td>\n",
       "    </tr>\n",
       "    <tr>\n",
       "      <th>4</th>\n",
       "      <td>2025-01-01 04:00:00</td>\n",
       "      <td>23.12</td>\n",
       "      <td>572.80</td>\n",
       "    </tr>\n",
       "    <tr>\n",
       "      <th>...</th>\n",
       "      <td>...</td>\n",
       "      <td>...</td>\n",
       "      <td>...</td>\n",
       "    </tr>\n",
       "    <tr>\n",
       "      <th>995</th>\n",
       "      <td>2025-02-11 11:00:00</td>\n",
       "      <td>21.83</td>\n",
       "      <td>561.00</td>\n",
       "    </tr>\n",
       "    <tr>\n",
       "      <th>996</th>\n",
       "      <td>2025-02-11 12:00:00</td>\n",
       "      <td>38.35</td>\n",
       "      <td>244.76</td>\n",
       "    </tr>\n",
       "    <tr>\n",
       "      <th>997</th>\n",
       "      <td>2025-02-11 13:00:00</td>\n",
       "      <td>22.74</td>\n",
       "      <td>568.46</td>\n",
       "    </tr>\n",
       "    <tr>\n",
       "      <th>998</th>\n",
       "      <td>2025-02-11 14:00:00</td>\n",
       "      <td>39.00</td>\n",
       "      <td>235.41</td>\n",
       "    </tr>\n",
       "    <tr>\n",
       "      <th>999</th>\n",
       "      <td>2025-02-11 15:00:00</td>\n",
       "      <td>28.92</td>\n",
       "      <td>431.75</td>\n",
       "    </tr>\n",
       "  </tbody>\n",
       "</table>\n",
       "<p>1000 rows × 3 columns</p>\n",
       "</div>"
      ],
      "text/plain": [
       "                    time  temperature  moisture\n",
       "0    2025-01-01 00:00:00        27.49    477.75\n",
       "1    2025-01-01 01:00:00        39.01    217.09\n",
       "2    2025-01-01 02:00:00        34.64    338.80\n",
       "3    2025-01-01 03:00:00        31.97    396.81\n",
       "4    2025-01-01 04:00:00        23.12    572.80\n",
       "..                   ...          ...       ...\n",
       "995  2025-02-11 11:00:00        21.83    561.00\n",
       "996  2025-02-11 12:00:00        38.35    244.76\n",
       "997  2025-02-11 13:00:00        22.74    568.46\n",
       "998  2025-02-11 14:00:00        39.00    235.41\n",
       "999  2025-02-11 15:00:00        28.92    431.75\n",
       "\n",
       "[1000 rows x 3 columns]"
      ]
     },
     "execution_count": 7,
     "metadata": {},
     "output_type": "execute_result"
    }
   ],
   "source": [
    "import pandas as pd\n",
    "from sklearn.model_selection import train_test_split\n",
    "from sklearn.linear_model import LinearRegression\n",
    "from sklearn.metrics import mean_squared_error\n",
    "\n",
    "# Load the dataset\n",
    "data = pd.read_csv('Dataset/cleaned_dataset.csv')\n",
    "\n",
    "# Drop rows with missing values\n",
    "data = data.dropna()\n",
    "\n",
    "# Display dataset information\n",
    "print(\"Dataset shape:\", data.shape)\n",
    "data"
   ]
  },
  {
   "cell_type": "code",
   "execution_count": 8,
   "id": "fb847e20-ef8b-4f14-9985-990de0a3cacb",
   "metadata": {},
   "outputs": [
    {
     "data": {
      "text/html": [
       "<div>\n",
       "<style scoped>\n",
       "    .dataframe tbody tr th:only-of-type {\n",
       "        vertical-align: middle;\n",
       "    }\n",
       "\n",
       "    .dataframe tbody tr th {\n",
       "        vertical-align: top;\n",
       "    }\n",
       "\n",
       "    .dataframe thead th {\n",
       "        text-align: right;\n",
       "    }\n",
       "</style>\n",
       "<table border=\"1\" class=\"dataframe\">\n",
       "  <thead>\n",
       "    <tr style=\"text-align: right;\">\n",
       "      <th></th>\n",
       "      <th>time</th>\n",
       "      <th>temperature</th>\n",
       "      <th>moisture</th>\n",
       "    </tr>\n",
       "  </thead>\n",
       "  <tbody>\n",
       "    <tr>\n",
       "      <th>0</th>\n",
       "      <td>2025-01-01 00:00:00</td>\n",
       "      <td>27.49</td>\n",
       "      <td>477.75</td>\n",
       "    </tr>\n",
       "    <tr>\n",
       "      <th>1</th>\n",
       "      <td>2025-01-01 01:00:00</td>\n",
       "      <td>39.01</td>\n",
       "      <td>217.09</td>\n",
       "    </tr>\n",
       "    <tr>\n",
       "      <th>2</th>\n",
       "      <td>2025-01-01 02:00:00</td>\n",
       "      <td>34.64</td>\n",
       "      <td>338.80</td>\n",
       "    </tr>\n",
       "    <tr>\n",
       "      <th>3</th>\n",
       "      <td>2025-01-01 03:00:00</td>\n",
       "      <td>31.97</td>\n",
       "      <td>396.81</td>\n",
       "    </tr>\n",
       "    <tr>\n",
       "      <th>4</th>\n",
       "      <td>2025-01-01 04:00:00</td>\n",
       "      <td>23.12</td>\n",
       "      <td>572.80</td>\n",
       "    </tr>\n",
       "    <tr>\n",
       "      <th>...</th>\n",
       "      <td>...</td>\n",
       "      <td>...</td>\n",
       "      <td>...</td>\n",
       "    </tr>\n",
       "    <tr>\n",
       "      <th>995</th>\n",
       "      <td>2025-02-11 11:00:00</td>\n",
       "      <td>21.83</td>\n",
       "      <td>561.00</td>\n",
       "    </tr>\n",
       "    <tr>\n",
       "      <th>996</th>\n",
       "      <td>2025-02-11 12:00:00</td>\n",
       "      <td>38.35</td>\n",
       "      <td>244.76</td>\n",
       "    </tr>\n",
       "    <tr>\n",
       "      <th>997</th>\n",
       "      <td>2025-02-11 13:00:00</td>\n",
       "      <td>22.74</td>\n",
       "      <td>568.46</td>\n",
       "    </tr>\n",
       "    <tr>\n",
       "      <th>998</th>\n",
       "      <td>2025-02-11 14:00:00</td>\n",
       "      <td>39.00</td>\n",
       "      <td>235.41</td>\n",
       "    </tr>\n",
       "    <tr>\n",
       "      <th>999</th>\n",
       "      <td>2025-02-11 15:00:00</td>\n",
       "      <td>28.92</td>\n",
       "      <td>431.75</td>\n",
       "    </tr>\n",
       "  </tbody>\n",
       "</table>\n",
       "<p>1000 rows × 3 columns</p>\n",
       "</div>"
      ],
      "text/plain": [
       "                    time  temperature  moisture\n",
       "0    2025-01-01 00:00:00        27.49    477.75\n",
       "1    2025-01-01 01:00:00        39.01    217.09\n",
       "2    2025-01-01 02:00:00        34.64    338.80\n",
       "3    2025-01-01 03:00:00        31.97    396.81\n",
       "4    2025-01-01 04:00:00        23.12    572.80\n",
       "..                   ...          ...       ...\n",
       "995  2025-02-11 11:00:00        21.83    561.00\n",
       "996  2025-02-11 12:00:00        38.35    244.76\n",
       "997  2025-02-11 13:00:00        22.74    568.46\n",
       "998  2025-02-11 14:00:00        39.00    235.41\n",
       "999  2025-02-11 15:00:00        28.92    431.75\n",
       "\n",
       "[1000 rows x 3 columns]"
      ]
     },
     "execution_count": 8,
     "metadata": {},
     "output_type": "execute_result"
    }
   ],
   "source": [
    "# Preprocess data\n",
    "data['temperature'] = pd.to_numeric(data['temperature'], errors='coerce')\n",
    "data['moisture'] = pd.to_numeric(data['moisture'], errors='coerce')\n",
    "data = data.dropna()\n",
    "data"
   ]
  },
  {
   "cell_type": "code",
   "execution_count": 9,
   "id": "ffd8b7de-e2ec-4b06-b099-d2681813cd86",
   "metadata": {},
   "outputs": [],
   "source": [
    "# Define features and target variable\n",
    "X = data[['temperature']].values  # Features\n",
    "y = data['moisture'].values       # Target\n",
    "\n",
    "# Split the dataset into training and testing sets\n",
    "X_train, X_test, y_train, y_test = train_test_split(X, y, test_size=0.2, random_state=42)"
   ]
  },
  {
   "cell_type": "code",
   "execution_count": 10,
   "id": "feef04af-873d-43e7-b3ed-e83b144d03bf",
   "metadata": {},
   "outputs": [
    {
     "name": "stdout",
     "output_type": "stream",
     "text": [
      "Model Accuracy: 97.51%\n"
     ]
    }
   ],
   "source": [
    "# Train a simple linear regression model\n",
    "model = LinearRegression()\n",
    "model.fit(X_train, y_train)\n",
    "\n",
    "# Evaluate the model\n",
    "accuracy = model.score(X_test, y_test)\n",
    "print(f'Model Accuracy: {accuracy * 100:.2f}%')"
   ]
  },
  {
   "cell_type": "code",
   "execution_count": 11,
   "id": "12399a33-a168-408a-a229-f0412e0a5b48",
   "metadata": {},
   "outputs": [
    {
     "data": {
      "text/plain": [
       "['Model/model.pkl']"
      ]
     },
     "execution_count": 11,
     "metadata": {},
     "output_type": "execute_result"
    }
   ],
   "source": [
    "import joblib\n",
    "# Save the model for future use\n",
    "joblib.dump(model, 'Model/model.pkl')"
   ]
  },
  {
   "cell_type": "code",
   "execution_count": 12,
   "id": "cb0d71d9-96fe-442b-a643-ccdc38229754",
   "metadata": {},
   "outputs": [
    {
     "name": "stdout",
     "output_type": "stream",
     "text": [
      "Fixed model.h file generated.\n"
     ]
    }
   ],
   "source": [
    "# Export model to Arduino-compatible C code\n",
    "from micromlgen import port\n",
    "import re\n",
    "\n",
    "# Generate the model as Arduino-compatible C code\n",
    "c_code = port(model, class_name=\"MoisturePredictor\")\n",
    "\n",
    "# Fix the generated model to remove unsupported headers\n",
    "c_code = c_code.replace('#include <cstdarg>', '')\n",
    "c_code = c_code.replace('#include <cmath>', '')\n",
    "\n",
    "# Fix the function declaration if using a namespace or class\n",
    "# Ensure it uses a plain function definition instead of a class or namespace\n",
    "c_code = re.sub(r'namespace \\w+ {', '', c_code)  # Remove namespace\n",
    "c_code = c_code.replace('}', '')  # Remove closing bracket of namespace\n",
    "c_code = re.sub(r'class \\w+ {', '', c_code)  # Remove class declaration\n",
    "c_code = c_code.replace('public:', '')  # Remove public keyword\n",
    "\n",
    "# Extract the coefficient from the generated code\n",
    "match = re.search(r'return dot\\(x, ([-+]?[0-9]*\\.?[0-9]+(?:[eE][-+]?[0-9]+)?)\\) \\+ ([-+]?[0-9]*\\.?[0-9]+);', c_code)\n",
    "if match:\n",
    "    coef = match.group(1)\n",
    "    intercept = match.group(2)\n",
    "else:\n",
    "    coef = \"-0.000000138013\"  # Fallback value\n",
    "    intercept = \"793.3811419373237\"\n",
    "\n",
    "# Create the desired output format directly\n",
    "desired_c_code = f\"\"\"#pragma once\n",
    "\n",
    "/**\n",
    " * Compute dot product\n",
    " */\n",
    "float dot(float *x, float coef) {{\n",
    "    float dot = 0.0;\n",
    "    dot += x[0] * coef;\n",
    "    return dot;\n",
    "}}\n",
    "\n",
    "/**\n",
    " * Predict class for features vector\n",
    " */\n",
    "float predict(float *x) {{\n",
    "    return dot(x, {coef}) + {intercept};\n",
    "}}\n",
    "\"\"\"\n",
    "\n",
    "# Save the corrected model to model.h\n",
    "with open(\"Model/model.h\", \"w\") as f:\n",
    "    f.write(desired_c_code)\n",
    "\n",
    "print(\"Fixed model.h file generated.\")\n"
   ]
  },
  {
   "cell_type": "code",
   "execution_count": null,
   "id": "3f8ec98c-71fe-410c-b734-6ba7b53008b4",
   "metadata": {},
   "outputs": [],
   "source": []
  }
 ],
 "metadata": {
  "kernelspec": {
   "display_name": "Python 3 (ipykernel)",
   "language": "python",
   "name": "python3"
  },
  "language_info": {
   "codemirror_mode": {
    "name": "ipython",
    "version": 3
   },
   "file_extension": ".py",
   "mimetype": "text/x-python",
   "name": "python",
   "nbconvert_exporter": "python",
   "pygments_lexer": "ipython3",
   "version": "3.10.12"
  }
 },
 "nbformat": 4,
 "nbformat_minor": 5
}
